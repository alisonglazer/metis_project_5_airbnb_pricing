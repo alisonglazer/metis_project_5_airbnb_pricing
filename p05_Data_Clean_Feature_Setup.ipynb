{
 "cells": [
  {
   "cell_type": "markdown",
   "metadata": {},
   "source": [
    "**Alison Glazer**\n",
    "# Airbnb Smart Pricing - Data Clean and Exploration\n",
    "The first step is to import and explore the data to understand what sort of features we have and that can be built. We will also look at the distributions of features and see how they are related to the target. \n",
    "<br>\n",
    "<br>\n",
    "We also need to find a way to isolate the \"good\"/\"smart\" prices to build the model and develop a training and test set - these are units that have a high booking rate or highest amount of success in booking. This ensures the model is not trained on units that are overpriced or underpriced. "
   ]
  },
  {
   "cell_type": "markdown",
   "metadata": {
    "toc": true
   },
   "source": [
    "<h1>Table of Contents<span class=\"tocSkip\"></span></h1>\n",
    "<div class=\"toc\"><ul class=\"toc-item\"><li><span><a href=\"#Import-Libraries\" data-toc-modified-id=\"Import-Libraries-1\"><span class=\"toc-item-num\">1&nbsp;&nbsp;</span>Import Libraries</a></span></li><li><span><a href=\"#Display-Options\" data-toc-modified-id=\"Display-Options-2\"><span class=\"toc-item-num\">2&nbsp;&nbsp;</span>Display Options</a></span></li><li><span><a href=\"#Load-the-Data\" data-toc-modified-id=\"Load-the-Data-3\"><span class=\"toc-item-num\">3&nbsp;&nbsp;</span>Load the Data</a></span></li><li><span><a href=\"#Target-(Price)-Distribution\" data-toc-modified-id=\"Target-(Price)-Distribution-4\"><span class=\"toc-item-num\">4&nbsp;&nbsp;</span>Target (Price) Distribution</a></span></li><li><span><a href=\"#Data-Cleaning-&amp;-Feature-Engineering\" data-toc-modified-id=\"Data-Cleaning-&amp;-Feature-Engineering-5\"><span class=\"toc-item-num\">5&nbsp;&nbsp;</span>Data Cleaning &amp; Feature Engineering</a></span><ul class=\"toc-item\"><li><span><a href=\"#Convert-strings-to-datetime/float/etc\" data-toc-modified-id=\"Convert-strings-to-datetime/float/etc-5.1\"><span class=\"toc-item-num\">5.1&nbsp;&nbsp;</span>Convert strings to datetime/float/etc</a></span></li><li><span><a href=\"#Categorical-variables\" data-toc-modified-id=\"Categorical-variables-5.2\"><span class=\"toc-item-num\">5.2&nbsp;&nbsp;</span>Categorical variables</a></span></li><li><span><a href=\"#Adding-Features:-Amenities\" data-toc-modified-id=\"Adding-Features:-Amenities-5.3\"><span class=\"toc-item-num\">5.3&nbsp;&nbsp;</span>Adding Features: Amenities</a></span></li><li><span><a href=\"#Missing-Data\" data-toc-modified-id=\"Missing-Data-5.4\"><span class=\"toc-item-num\">5.4&nbsp;&nbsp;</span>Missing Data</a></span></li><li><span><a href=\"#Outliers\" data-toc-modified-id=\"Outliers-5.5\"><span class=\"toc-item-num\">5.5&nbsp;&nbsp;</span>Outliers</a></span></li></ul></li><li><span><a href=\"#Calculate-Occupancy-Rate\" data-toc-modified-id=\"Calculate-Occupancy-Rate-6\"><span class=\"toc-item-num\">6&nbsp;&nbsp;</span>Calculate Occupancy Rate</a></span></li></ul></div>"
   ]
  },
  {
   "cell_type": "markdown",
   "metadata": {},
   "source": [
    "## Import Libraries"
   ]
  },
  {
   "cell_type": "code",
   "execution_count": 1,
   "metadata": {},
   "outputs": [],
   "source": [
    "# Working with data\n",
    "import pandas as pd\n",
    "import numpy as np\n",
    "import datetime as dt\n",
    "import re\n",
    "from collections import Counter\n",
    "\n",
    "# Saving\n",
    "import pickle\n",
    "import joblib\n",
    "\n",
    "# Plotting\n",
    "import matplotlib.pyplot as plt\n",
    "import seaborn as sns\n",
    "%matplotlib inline"
   ]
  },
  {
   "cell_type": "markdown",
   "metadata": {},
   "source": [
    "<a id='display'></a>\n",
    "## Display Options"
   ]
  },
  {
   "cell_type": "code",
   "execution_count": 2,
   "metadata": {},
   "outputs": [],
   "source": [
    "pd.options.display.max_columns = 200"
   ]
  },
  {
   "cell_type": "code",
   "execution_count": 3,
   "metadata": {},
   "outputs": [],
   "source": [
    "# Colors sourced from here: https://usbrandcolors.com/airbnb-colors/\n",
    "bnb_red = '#FF5A5F'\n",
    "bnb_blue = '#00A699'\n",
    "bnb_orange = '#FC642D'\n",
    "bnb_lgrey = '#767676'\n",
    "bnb_dgrey = '#484848'\n",
    "bnb_maroon = '#92174D'"
   ]
  },
  {
   "cell_type": "code",
   "execution_count": 4,
   "metadata": {},
   "outputs": [
    {
     "data": {
      "image/png": "[encoded data removed]",
      "text/plain": [
       "<Figure size 1152x72 with 1 Axes>"
      ]
     },
     "metadata": {
      "needs_background": "light"
     },
     "output_type": "display_data"
    }
   ],
   "source": [
    "# Create diverging colormap for heatmaps\n",
    "bnb_cmap = sns.diverging_palette(210,\n",
    "                                 13,\n",
    "                                 s=81,\n",
    "                                 l=61,\n",
    "                                 sep=3,\n",
    "                                 n=16,\n",
    "                                 as_cmap=True)\n",
    "\n",
    "# Test colors\n",
    "sns.palplot(sns.diverging_palette(210, 13, s=81, l=61, sep=3, n=16))"
   ]
  },
  {
   "cell_type": "code",
   "execution_count": 5,
   "metadata": {
    "scrolled": true
   },
   "outputs": [
    {
     "data": {
      "image/png": "[encoded data removed]",
      "text/plain": [
       "<Figure size 432x72 with 1 Axes>"
      ]
     },
     "metadata": {
      "needs_background": "light"
     },
     "output_type": "display_data"
    }
   ],
   "source": [
    "# Create color palette\n",
    "bnb_palette = sns.color_palette(\n",
    "    [\"#FF5A5F\", \"#007989\", \"#8CE071\", \"#FC642D\", \"#92174D\", \"#01D1C1\"])\n",
    "\n",
    "# Test colors\n",
    "sns.palplot(bnb_palette)"
   ]
  },
  {
   "cell_type": "markdown",
   "metadata": {},
   "source": [
    "<a id='load-data'></a>\n",
    "## Load the Data"
   ]
  },
  {
   "cell_type": "markdown",
   "metadata": {},
   "source": [
    "We will look at the listings for the city of Los Angeles, CA"
   ]
  },
  {
   "cell_type": "code",
   "execution_count": 6,
   "metadata": {},
   "outputs": [
    {
     "data": {
      "text/plain": [
       "(45053, 16)"
      ]
     },
     "execution_count": 6,
     "metadata": {},
     "output_type": "execute_result"
    }
   ],
   "source": [
    "# Highest level listings information\n",
    "lax_listings = pd.read_csv('data/Los_Angeles/listings.csv')\n",
    "lax_listings.shape"
   ]
  },
  {
   "cell_type": "markdown",
   "metadata": {},
   "source": [
    "<br>\n",
    "There are 45053 listings in the dataset\n",
    "<br>\n",
    "<br>"
   ]
  },
  {
   "cell_type": "code",
   "execution_count": 7,
   "metadata": {},
   "outputs": [
    {
     "data": {
      "text/html": [
       "<div>\n",
       "<style scoped>\n",
       "    .dataframe tbody tr th:only-of-type {\n",
       "        vertical-align: middle;\n",
       "    }\n",
       "\n",
       "    .dataframe tbody tr th {\n",
       "        vertical-align: top;\n",
       "    }\n",
       "\n",
       "    .dataframe thead th {\n",
       "        text-align: right;\n",
       "    }\n",
       "</style>\n",
       "<table border=\"1\" class=\"dataframe\">\n",
       "  <thead>\n",
       "    <tr style=\"text-align: right;\">\n",
       "      <th></th>\n",
       "      <th>id</th>\n",
       "      <th>name</th>\n",
       "      <th>host_id</th>\n",
       "      <th>host_name</th>\n",
       "      <th>neighbourhood_group</th>\n",
       "      <th>neighbourhood</th>\n",
       "      <th>latitude</th>\n",
       "      <th>longitude</th>\n",
       "      <th>room_type</th>\n",
       "      <th>price</th>\n",
       "      <th>minimum_nights</th>\n",
       "      <th>number_of_reviews</th>\n",
       "      <th>last_review</th>\n",
       "      <th>reviews_per_month</th>\n",
       "      <th>calculated_host_listings_count</th>\n",
       "      <th>availability_365</th>\n",
       "    </tr>\n",
       "  </thead>\n",
       "  <tbody>\n",
       "    <tr>\n",
       "      <td>11741</td>\n",
       "      <td>14387880</td>\n",
       "      <td>Redondo Beach, Spanish-style Villa</td>\n",
       "      <td>88028644</td>\n",
       "      <td>Clifford</td>\n",
       "      <td>NaN</td>\n",
       "      <td>Torrance</td>\n",
       "      <td>33.81063</td>\n",
       "      <td>-118.38594</td>\n",
       "      <td>Entire home/apt</td>\n",
       "      <td>600</td>\n",
       "      <td>2</td>\n",
       "      <td>32</td>\n",
       "      <td>2019-09-02</td>\n",
       "      <td>0.86</td>\n",
       "      <td>1</td>\n",
       "      <td>307</td>\n",
       "    </tr>\n",
       "  </tbody>\n",
       "</table>\n",
       "</div>"
      ],
      "text/plain": [
       "             id                                name   host_id host_name  \\\n",
       "11741  14387880  Redondo Beach, Spanish-style Villa  88028644  Clifford   \n",
       "\n",
       "       neighbourhood_group neighbourhood  latitude  longitude  \\\n",
       "11741                  NaN      Torrance  33.81063 -118.38594   \n",
       "\n",
       "             room_type  price  minimum_nights  number_of_reviews last_review  \\\n",
       "11741  Entire home/apt    600               2                 32  2019-09-02   \n",
       "\n",
       "       reviews_per_month  calculated_host_listings_count  availability_365  \n",
       "11741               0.86                               1               307  "
      ]
     },
     "execution_count": 7,
     "metadata": {},
     "output_type": "execute_result"
    }
   ],
   "source": [
    "# Looking at a sample observations\n",
    "lax_listings.sample()"
   ]
  },
  {
   "cell_type": "code",
   "execution_count": 8,
   "metadata": {},
   "outputs": [
    {
     "name": "stdout",
     "output_type": "stream",
     "text": [
      "<class 'pandas.core.frame.DataFrame'>\n",
      "RangeIndex: 45053 entries, 0 to 45052\n",
      "Data columns (total 16 columns):\n",
      "id                                45053 non-null int64\n",
      "name                              45047 non-null object\n",
      "host_id                           45053 non-null int64\n",
      "host_name                         45037 non-null object\n",
      "neighbourhood_group               0 non-null float64\n",
      "neighbourhood                     45053 non-null object\n",
      "latitude                          45053 non-null float64\n",
      "longitude                         45053 non-null float64\n",
      "room_type                         45053 non-null object\n",
      "price                             45053 non-null int64\n",
      "minimum_nights                    45053 non-null int64\n",
      "number_of_reviews                 45053 non-null int64\n",
      "last_review                       36534 non-null object\n",
      "reviews_per_month                 36534 non-null float64\n",
      "calculated_host_listings_count    45053 non-null int64\n",
      "availability_365                  45053 non-null int64\n",
      "dtypes: float64(4), int64(7), object(5)\n",
      "memory usage: 5.5+ MB\n"
     ]
    }
   ],
   "source": [
    "lax_listings.info()"
   ]
  },
  {
   "cell_type": "markdown",
   "metadata": {},
   "source": [
    "Most of the missing data is in the `last_review` field and the `reviews_per_month` field. We will investigate this when dealing with missing data\n",
    "<br>\n",
    "<br>"
   ]
  },
  {
   "cell_type": "code",
   "execution_count": 10,
   "metadata": {
    "scrolled": true
   },
   "outputs": [
    {
     "name": "stderr",
     "output_type": "stream",
     "text": [
      "/anaconda3/envs/metis/lib/python3.6/site-packages/IPython/core/interactiveshell.py:3058: DtypeWarning: Columns (61,62) have mixed types. Specify dtype option on import or set low_memory=False.\n",
      "  interactivity=interactivity, compiler=compiler, result=result)\n"
     ]
    }
   ],
   "source": [
    "# Detailed listing information\n",
    "lax_listings_detailed = pd.read_csv('data/Los_Angeles/listings_detailed.csv')"
   ]
  },
  {
   "cell_type": "code",
   "execution_count": 11,
   "metadata": {},
   "outputs": [
    {
     "data": {
      "text/plain": [
       "xl_picture_url                  45053\n",
       "neighbourhood_group_cleansed    45053\n",
       "host_acceptance_rate            45053\n",
       "thumbnail_url                   45053\n",
       "medium_url                      45053\n",
       "square_feet                     44731\n",
       "license                         43021\n",
       "monthly_price                   40739\n",
       "weekly_price                    40356\n",
       "notes                           22422\n",
       "access                          18163\n",
       "transit                         17420\n",
       "interaction                     16098\n",
       "host_about                      16080\n",
       "neighborhood_overview           15153\n",
       "house_rules                     13661\n",
       "jurisdiction_names              12027\n",
       "space                           11606\n",
       "security_deposit                10906\n",
       "review_scores_value              9133\n",
       "review_scores_location           9125\n",
       "review_scores_checkin            9120\n",
       "review_scores_communication      9098\n",
       "review_scores_cleanliness        9095\n",
       "review_scores_accuracy           9095\n",
       "review_scores_rating             9080\n",
       "reviews_per_month                8519\n",
       "last_review                      8519\n",
       "first_review                     8519\n",
       "host_response_time               8294\n",
       "dtype: int64"
      ]
     },
     "execution_count": 11,
     "metadata": {},
     "output_type": "execute_result"
    }
   ],
   "source": [
    "# See which columns have null values\n",
    "lax_listings_detailed.isna().sum().sort_values(ascending=False)[0:30]"
   ]
  },
  {
   "cell_type": "markdown",
   "metadata": {},
   "source": [
    "There are quite a few columns with lots of null values. Some of these are optional text fields that the host may have chosen to leave empty.\n",
    "<br>\n",
    "Some columns are all null values, don't include these.\n",
    "<br>\n",
    "<br>"
   ]
  },
  {
   "cell_type": "code",
   "execution_count": 12,
   "metadata": {},
   "outputs": [
    {
     "data": {
      "text/html": [
       "<div>\n",
       "<style scoped>\n",
       "    .dataframe tbody tr th:only-of-type {\n",
       "        vertical-align: middle;\n",
       "    }\n",
       "\n",
       "    .dataframe tbody tr th {\n",
       "        vertical-align: top;\n",
       "    }\n",
       "\n",
       "    .dataframe thead th {\n",
       "        text-align: right;\n",
       "    }\n",
       "</style>\n",
       "<table border=\"1\" class=\"dataframe\">\n",
       "  <thead>\n",
       "    <tr style=\"text-align: right;\">\n",
       "      <th></th>\n",
       "      <th>id</th>\n",
       "      <th>listing_url</th>\n",
       "      <th>scrape_id</th>\n",
       "      <th>last_scraped</th>\n",
       "      <th>name</th>\n",
       "      <th>summary</th>\n",
       "      <th>space</th>\n",
       "      <th>description</th>\n",
       "      <th>experiences_offered</th>\n",
       "      <th>neighborhood_overview</th>\n",
       "      <th>notes</th>\n",
       "      <th>transit</th>\n",
       "      <th>access</th>\n",
       "      <th>interaction</th>\n",
       "      <th>house_rules</th>\n",
       "      <th>thumbnail_url</th>\n",
       "      <th>medium_url</th>\n",
       "      <th>picture_url</th>\n",
       "      <th>xl_picture_url</th>\n",
       "      <th>host_id</th>\n",
       "      <th>host_url</th>\n",
       "      <th>host_name</th>\n",
       "      <th>host_since</th>\n",
       "      <th>host_location</th>\n",
       "      <th>host_about</th>\n",
       "      <th>host_response_time</th>\n",
       "      <th>host_response_rate</th>\n",
       "      <th>host_acceptance_rate</th>\n",
       "      <th>host_is_superhost</th>\n",
       "      <th>host_thumbnail_url</th>\n",
       "      <th>host_picture_url</th>\n",
       "      <th>host_neighbourhood</th>\n",
       "      <th>host_listings_count</th>\n",
       "      <th>host_total_listings_count</th>\n",
       "      <th>host_verifications</th>\n",
       "      <th>host_has_profile_pic</th>\n",
       "      <th>host_identity_verified</th>\n",
       "      <th>street</th>\n",
       "      <th>neighbourhood</th>\n",
       "      <th>neighbourhood_cleansed</th>\n",
       "      <th>neighbourhood_group_cleansed</th>\n",
       "      <th>city</th>\n",
       "      <th>state</th>\n",
       "      <th>zipcode</th>\n",
       "      <th>market</th>\n",
       "      <th>smart_location</th>\n",
       "      <th>country_code</th>\n",
       "      <th>country</th>\n",
       "      <th>latitude</th>\n",
       "      <th>longitude</th>\n",
       "      <th>is_location_exact</th>\n",
       "      <th>property_type</th>\n",
       "      <th>room_type</th>\n",
       "      <th>accommodates</th>\n",
       "      <th>bathrooms</th>\n",
       "      <th>bedrooms</th>\n",
       "      <th>beds</th>\n",
       "      <th>bed_type</th>\n",
       "      <th>amenities</th>\n",
       "      <th>square_feet</th>\n",
       "      <th>price</th>\n",
       "      <th>weekly_price</th>\n",
       "      <th>monthly_price</th>\n",
       "      <th>security_deposit</th>\n",
       "      <th>cleaning_fee</th>\n",
       "      <th>guests_included</th>\n",
       "      <th>extra_people</th>\n",
       "      <th>minimum_nights</th>\n",
       "      <th>maximum_nights</th>\n",
       "      <th>minimum_minimum_nights</th>\n",
       "      <th>maximum_minimum_nights</th>\n",
       "      <th>minimum_maximum_nights</th>\n",
       "      <th>maximum_maximum_nights</th>\n",
       "      <th>minimum_nights_avg_ntm</th>\n",
       "      <th>maximum_nights_avg_ntm</th>\n",
       "      <th>calendar_updated</th>\n",
       "      <th>has_availability</th>\n",
       "      <th>availability_30</th>\n",
       "      <th>availability_60</th>\n",
       "      <th>availability_90</th>\n",
       "      <th>availability_365</th>\n",
       "      <th>calendar_last_scraped</th>\n",
       "      <th>number_of_reviews</th>\n",
       "      <th>number_of_reviews_ltm</th>\n",
       "      <th>first_review</th>\n",
       "      <th>last_review</th>\n",
       "      <th>review_scores_rating</th>\n",
       "      <th>review_scores_accuracy</th>\n",
       "      <th>review_scores_cleanliness</th>\n",
       "      <th>review_scores_checkin</th>\n",
       "      <th>review_scores_communication</th>\n",
       "      <th>review_scores_location</th>\n",
       "      <th>review_scores_value</th>\n",
       "      <th>requires_license</th>\n",
       "      <th>license</th>\n",
       "      <th>jurisdiction_names</th>\n",
       "      <th>instant_bookable</th>\n",
       "      <th>is_business_travel_ready</th>\n",
       "      <th>cancellation_policy</th>\n",
       "      <th>require_guest_profile_picture</th>\n",
       "      <th>require_guest_phone_verification</th>\n",
       "      <th>calculated_host_listings_count</th>\n",
       "      <th>calculated_host_listings_count_entire_homes</th>\n",
       "      <th>calculated_host_listings_count_private_rooms</th>\n",
       "      <th>calculated_host_listings_count_shared_rooms</th>\n",
       "      <th>reviews_per_month</th>\n",
       "    </tr>\n",
       "  </thead>\n",
       "  <tbody>\n",
       "    <tr>\n",
       "      <td>33700</td>\n",
       "      <td>31878727</td>\n",
       "      <td>https://www.airbnb.com/rooms/31878727</td>\n",
       "      <td>20190914032935</td>\n",
       "      <td>2019-09-14</td>\n",
       "      <td>Enjoy a hidden gem in the heart of century city.</td>\n",
       "      <td>Come experience the laid back la life style in...</td>\n",
       "      <td>The whole condo is yours.</td>\n",
       "      <td>Come experience the laid back la life style in...</td>\n",
       "      <td>none</td>\n",
       "      <td>We are a 10 min  walk from century city mall. ...</td>\n",
       "      <td>NaN</td>\n",
       "      <td>Uber or Lyft.</td>\n",
       "      <td>They have access to the full apt.</td>\n",
       "      <td>I’m available at all times.</td>\n",
       "      <td>- quiet hours after 9 pm House rules  No shoes...</td>\n",
       "      <td>NaN</td>\n",
       "      <td>NaN</td>\n",
       "      <td>https://a0.muscache.com/im/pictures/2dfca6b0-0...</td>\n",
       "      <td>NaN</td>\n",
       "      <td>118694886</td>\n",
       "      <td>https://www.airbnb.com/users/show/118694886</td>\n",
       "      <td>Jannesa</td>\n",
       "      <td>2017-03-01</td>\n",
       "      <td>Los Angeles, California, United States</td>\n",
       "      <td>Hello we are a young married active couple wit...</td>\n",
       "      <td>within an hour</td>\n",
       "      <td>100%</td>\n",
       "      <td>NaN</td>\n",
       "      <td>f</td>\n",
       "      <td>https://a0.muscache.com/im/pictures/user/dd513...</td>\n",
       "      <td>https://a0.muscache.com/im/pictures/user/dd513...</td>\n",
       "      <td>Westwood</td>\n",
       "      <td>1.0</td>\n",
       "      <td>1.0</td>\n",
       "      <td>['email', 'phone', 'facebook']</td>\n",
       "      <td>t</td>\n",
       "      <td>f</td>\n",
       "      <td>Los Angeles, CA, United States</td>\n",
       "      <td>Westwood</td>\n",
       "      <td>Westwood</td>\n",
       "      <td>NaN</td>\n",
       "      <td>Los Angeles</td>\n",
       "      <td>CA</td>\n",
       "      <td>90024</td>\n",
       "      <td>Los Angeles</td>\n",
       "      <td>Los Angeles, CA</td>\n",
       "      <td>US</td>\n",
       "      <td>United States</td>\n",
       "      <td>34.05928</td>\n",
       "      <td>-118.42479</td>\n",
       "      <td>t</td>\n",
       "      <td>Apartment</td>\n",
       "      <td>Entire home/apt</td>\n",
       "      <td>3</td>\n",
       "      <td>1.0</td>\n",
       "      <td>1.0</td>\n",
       "      <td>1.0</td>\n",
       "      <td>Real Bed</td>\n",
       "      <td>{TV,Wifi,\"Air conditioning\",Kitchen,\"Free park...</td>\n",
       "      <td>NaN</td>\n",
       "      <td>$200.00</td>\n",
       "      <td>NaN</td>\n",
       "      <td>NaN</td>\n",
       "      <td>$150.00</td>\n",
       "      <td>$35.00</td>\n",
       "      <td>2</td>\n",
       "      <td>$50.00</td>\n",
       "      <td>1</td>\n",
       "      <td>60</td>\n",
       "      <td>1</td>\n",
       "      <td>1</td>\n",
       "      <td>60</td>\n",
       "      <td>60</td>\n",
       "      <td>1.0</td>\n",
       "      <td>60.0</td>\n",
       "      <td>6 weeks ago</td>\n",
       "      <td>t</td>\n",
       "      <td>28</td>\n",
       "      <td>58</td>\n",
       "      <td>88</td>\n",
       "      <td>107</td>\n",
       "      <td>2019-09-14</td>\n",
       "      <td>7</td>\n",
       "      <td>7</td>\n",
       "      <td>2019-06-30</td>\n",
       "      <td>2019-08-23</td>\n",
       "      <td>86.0</td>\n",
       "      <td>9.0</td>\n",
       "      <td>9.0</td>\n",
       "      <td>10.0</td>\n",
       "      <td>9.0</td>\n",
       "      <td>9.0</td>\n",
       "      <td>9.0</td>\n",
       "      <td>t</td>\n",
       "      <td>NaN</td>\n",
       "      <td>{\"City of Los Angeles\",\" CA\"}</td>\n",
       "      <td>t</td>\n",
       "      <td>f</td>\n",
       "      <td>strict_14_with_grace_period</td>\n",
       "      <td>f</td>\n",
       "      <td>f</td>\n",
       "      <td>1</td>\n",
       "      <td>1</td>\n",
       "      <td>0</td>\n",
       "      <td>0</td>\n",
       "      <td>2.73</td>\n",
       "    </tr>\n",
       "  </tbody>\n",
       "</table>\n",
       "</div>"
      ],
      "text/plain": [
       "             id                            listing_url       scrape_id  \\\n",
       "33700  31878727  https://www.airbnb.com/rooms/31878727  20190914032935   \n",
       "\n",
       "      last_scraped                                              name  \\\n",
       "33700   2019-09-14  Enjoy a hidden gem in the heart of century city.   \n",
       "\n",
       "                                                 summary  \\\n",
       "33700  Come experience the laid back la life style in...   \n",
       "\n",
       "                           space  \\\n",
       "33700  The whole condo is yours.   \n",
       "\n",
       "                                             description experiences_offered  \\\n",
       "33700  Come experience the laid back la life style in...                none   \n",
       "\n",
       "                                   neighborhood_overview notes        transit  \\\n",
       "33700  We are a 10 min  walk from century city mall. ...   NaN  Uber or Lyft.   \n",
       "\n",
       "                                  access                  interaction  \\\n",
       "33700  They have access to the full apt.  I’m available at all times.   \n",
       "\n",
       "                                             house_rules  thumbnail_url  \\\n",
       "33700  - quiet hours after 9 pm House rules  No shoes...            NaN   \n",
       "\n",
       "       medium_url                                        picture_url  \\\n",
       "33700         NaN  https://a0.muscache.com/im/pictures/2dfca6b0-0...   \n",
       "\n",
       "       xl_picture_url    host_id                                     host_url  \\\n",
       "33700             NaN  118694886  https://www.airbnb.com/users/show/118694886   \n",
       "\n",
       "      host_name  host_since                           host_location  \\\n",
       "33700   Jannesa  2017-03-01  Los Angeles, California, United States   \n",
       "\n",
       "                                              host_about host_response_time  \\\n",
       "33700  Hello we are a young married active couple wit...     within an hour   \n",
       "\n",
       "      host_response_rate  host_acceptance_rate host_is_superhost  \\\n",
       "33700               100%                   NaN                 f   \n",
       "\n",
       "                                      host_thumbnail_url  \\\n",
       "33700  https://a0.muscache.com/im/pictures/user/dd513...   \n",
       "\n",
       "                                        host_picture_url host_neighbourhood  \\\n",
       "33700  https://a0.muscache.com/im/pictures/user/dd513...           Westwood   \n",
       "\n",
       "       host_listings_count  host_total_listings_count  \\\n",
       "33700                  1.0                        1.0   \n",
       "\n",
       "                   host_verifications host_has_profile_pic  \\\n",
       "33700  ['email', 'phone', 'facebook']                    t   \n",
       "\n",
       "      host_identity_verified                          street neighbourhood  \\\n",
       "33700                      f  Los Angeles, CA, United States      Westwood   \n",
       "\n",
       "      neighbourhood_cleansed  neighbourhood_group_cleansed         city state  \\\n",
       "33700               Westwood                           NaN  Los Angeles    CA   \n",
       "\n",
       "      zipcode       market   smart_location country_code        country  \\\n",
       "33700   90024  Los Angeles  Los Angeles, CA           US  United States   \n",
       "\n",
       "       latitude  longitude is_location_exact property_type        room_type  \\\n",
       "33700  34.05928 -118.42479                 t     Apartment  Entire home/apt   \n",
       "\n",
       "       accommodates  bathrooms  bedrooms  beds  bed_type  \\\n",
       "33700             3        1.0       1.0   1.0  Real Bed   \n",
       "\n",
       "                                               amenities  square_feet  \\\n",
       "33700  {TV,Wifi,\"Air conditioning\",Kitchen,\"Free park...          NaN   \n",
       "\n",
       "         price weekly_price monthly_price security_deposit cleaning_fee  \\\n",
       "33700  $200.00          NaN           NaN          $150.00       $35.00   \n",
       "\n",
       "       guests_included extra_people  minimum_nights  maximum_nights  \\\n",
       "33700                2       $50.00               1              60   \n",
       "\n",
       "       minimum_minimum_nights  maximum_minimum_nights  minimum_maximum_nights  \\\n",
       "33700                       1                       1                      60   \n",
       "\n",
       "       maximum_maximum_nights  minimum_nights_avg_ntm  maximum_nights_avg_ntm  \\\n",
       "33700                      60                     1.0                    60.0   \n",
       "\n",
       "      calendar_updated has_availability  availability_30  availability_60  \\\n",
       "33700      6 weeks ago                t               28               58   \n",
       "\n",
       "       availability_90  availability_365 calendar_last_scraped  \\\n",
       "33700               88               107            2019-09-14   \n",
       "\n",
       "       number_of_reviews  number_of_reviews_ltm first_review last_review  \\\n",
       "33700                  7                      7   2019-06-30  2019-08-23   \n",
       "\n",
       "       review_scores_rating  review_scores_accuracy  \\\n",
       "33700                  86.0                     9.0   \n",
       "\n",
       "       review_scores_cleanliness  review_scores_checkin  \\\n",
       "33700                        9.0                   10.0   \n",
       "\n",
       "       review_scores_communication  review_scores_location  \\\n",
       "33700                          9.0                     9.0   \n",
       "\n",
       "       review_scores_value requires_license license  \\\n",
       "33700                  9.0                t     NaN   \n",
       "\n",
       "                  jurisdiction_names instant_bookable  \\\n",
       "33700  {\"City of Los Angeles\",\" CA\"}                t   \n",
       "\n",
       "      is_business_travel_ready          cancellation_policy  \\\n",
       "33700                        f  strict_14_with_grace_period   \n",
       "\n",
       "      require_guest_profile_picture require_guest_phone_verification  \\\n",
       "33700                             f                                f   \n",
       "\n",
       "       calculated_host_listings_count  \\\n",
       "33700                               1   \n",
       "\n",
       "       calculated_host_listings_count_entire_homes  \\\n",
       "33700                                            1   \n",
       "\n",
       "       calculated_host_listings_count_private_rooms  \\\n",
       "33700                                             0   \n",
       "\n",
       "       calculated_host_listings_count_shared_rooms  reviews_per_month  \n",
       "33700                                            0               2.73  "
      ]
     },
     "execution_count": 12,
     "metadata": {},
     "output_type": "execute_result"
    }
   ],
   "source": [
    "lax_listings_detailed.sample()"
   ]
  },
  {
   "cell_type": "markdown",
   "metadata": {},
   "source": [
    "## Target (Price) Distribution\n",
    "Look at the distribution of the prices to get an idea of what the target that we are going to try to predict looks like"
   ]
  },
  {
   "cell_type": "code",
   "execution_count": 13,
   "metadata": {},
   "outputs": [],
   "source": [
    "# Visualize price table, changing them to floats and replacing the commas with a blank\n",
    "prices = lax_listings_detailed['price'].apply(lambda s: float(s[1:].replace(',','')))\n",
    "\n",
    "# Drop listings with a price of zero\n",
    "prices = prices[prices!=0]\n",
    "\n",
    "# Log prices\n",
    "log_prices = np.log(prices)"
   ]
  },
  {
   "cell_type": "code",
   "execution_count": 15,
   "metadata": {},
   "outputs": [
    {
     "name": "stderr",
     "output_type": "stream",
     "text": [
      "/anaconda3/envs/metis/lib/python3.6/site-packages/ipykernel_launcher.py:5: MatplotlibDeprecationWarning: \n",
      "The 'normed' kwarg was deprecated in Matplotlib 2.1 and will be removed in 3.1. Use 'density' instead.\n",
      "  \"\"\"\n"
     ]
    },
    {
     "data": {
      "image/png": "[encoded data removed]",
      "text/plain": [
       "<Figure size 576x540 with 4 Axes>"
      ]
     },
     "metadata": {
      "needs_background": "light"
     },
     "output_type": "display_data"
    }
   ],
   "source": [
    "def plot_hist(n, titles, ranges):\n",
    "    \"\"\"\n",
    "    Quick helper function to plot histograms\n",
    "    \"\"\"\n",
    "    fig, ax = plt.subplots(n, figsize = (8, 7.5))\n",
    "    for i in range(n):\n",
    "        d, bins, patches = ax[i].hist(ranges[i], 50, normed = 1, color= bnb_red, alpha = 0.85)\n",
    "        ax[i].set_title(titles[i])\n",
    "        ax[i].set_xlabel(\"Daily Listing Price in Dollars\")\n",
    "        ax[i].set_ylabel(\"Frequency\")\n",
    "    plt.tight_layout()\n",
    "    plt.show()\n",
    "\n",
    "# Plot histograms of price distribution\n",
    "plot_hist(4, ['Distribution of Listing Prices: All Data', 'Distribution of Listing Prices: \\$0 - \\$1000', \n",
    "               'Distribution of Listing Prices: \\$0 - \\$250','Log Transformed Distribution of Listing Prices: All Data'], [prices, prices[prices <= 1000], prices[prices < 250],log_prices])\n"
   ]
  },
  {
   "cell_type": "markdown",
   "metadata": {},
   "source": [
    "Despite the heavy left skew, log-transforming the prices almost completely normalizes the distribution"
   ]
  },
  {
   "cell_type": "markdown",
   "metadata": {},
   "source": [
    "## Data Cleaning & Feature Engineering\n",
    "There are a lot of columns in this dataset. We should only focus on cleaning those that we are interested in considering in the model to save some time. \n",
    "- Convert strings to relevant formats (float, datetime, etc)\n",
    "- Impute or remove missing data\n",
    "- Simplify categorical variables with tons of values"
   ]
  },
  {
   "cell_type": "markdown",
   "metadata": {},
   "source": [
    "### Convert strings to datetime/float/etc"
   ]
  },
  {
   "cell_type": "code",
   "execution_count": 16,
   "metadata": {},
   "outputs": [],
   "source": [
    "# Convert relevant columns to datetime format\n",
    "lax_listings_detailed.last_scraped = pd.to_datetime(\n",
    "    lax_listings_detailed.last_scraped)\n",
    "\n",
    "lax_listings_detailed.calendar_last_scraped = pd.to_datetime(\n",
    "    lax_listings_detailed.calendar_last_scraped)\n",
    "\n",
    "lax_listings_detailed.first_review = pd.to_datetime(\n",
    "    lax_listings_detailed.first_review)\n",
    "\n",
    "lax_listings_detailed.last_review = pd.to_datetime(\n",
    "    lax_listings_detailed.last_review)\n",
    "\n",
    "lax_listings_detailed.host_since = pd.to_datetime(\n",
    "    lax_listings_detailed.host_since)"
   ]
  },
  {
   "cell_type": "code",
   "execution_count": 17,
   "metadata": {},
   "outputs": [],
   "source": [
    "# Convert strings to numbers\n",
    "lax_listings_detailed.host_response_rate = lax_listings_detailed[\n",
    "    'host_response_rate'].apply(lambda s: float(str(s).replace('%', '')))\n",
    "\n",
    "lax_listings_detailed.security_deposit = lax_listings_detailed.security_deposit.str.replace(\n",
    "    '$', '').str.replace(',', '').astype(float)\n",
    "\n",
    "lax_listings_detailed.cleaning_fee = lax_listings_detailed.cleaning_fee.str.replace(\n",
    "    '$', '').str.replace(',', '').astype(float)"
   ]
  },
  {
   "cell_type": "markdown",
   "metadata": {},
   "source": [
    "### Categorical variables\n",
    "**Clean up property types**\n",
    "<br>\n",
    "There are a lot of property types that only appear a couple of times and could be lumped in with other property types"
   ]
  },
  {
   "cell_type": "code",
   "execution_count": 18,
   "metadata": {},
   "outputs": [
    {
     "data": {
      "text/plain": [
       "Apartment                 16654\n",
       "House                     15436\n",
       "Condominium                2645\n",
       "Guesthouse                 2349\n",
       "Guest suite                1543\n",
       "Townhouse                  1364\n",
       "Bungalow                   1201\n",
       "Villa                      1075\n",
       "Loft                        945\n",
       "Serviced apartment          279\n",
       "Hostel                      257\n",
       "Cottage                     197\n",
       "Camper/RV                   169\n",
       "Bed and breakfast           165\n",
       "Other                       139\n",
       "Boutique hotel              139\n",
       "Tiny house                   95\n",
       "Cabin                        67\n",
       "Hotel                        60\n",
       "Aparthotel                   54\n",
       "Boat                         33\n",
       "Farm stay                    27\n",
       "Tent                         23\n",
       "Castle                       17\n",
       "Dome house                   16\n",
       "Chalet                       15\n",
       "Earth house                  14\n",
       "Campsite                     12\n",
       "Treehouse                    12\n",
       "Barn                          9\n",
       "Tipi                          8\n",
       "Yurt                          7\n",
       "Dorm                          6\n",
       "Hut                           3\n",
       "Casa particular (Cuba)        3\n",
       "Houseboat                     2\n",
       "Bus                           2\n",
       "Resort                        2\n",
       "Train                         2\n",
       "Island                        2\n",
       "Igloo                         1\n",
       "Cave                          1\n",
       "Minsu (Taiwan)                1\n",
       "Pension (South Korea)         1\n",
       "Vacation home                 1\n",
       "Name: property_type, dtype: int64"
      ]
     },
     "execution_count": 18,
     "metadata": {},
     "output_type": "execute_result"
    }
   ],
   "source": [
    "lax_listings_detailed.property_type.value_counts()"
   ]
  },
  {
   "cell_type": "code",
   "execution_count": 19,
   "metadata": {},
   "outputs": [],
   "source": [
    "# Treehouse and others that are most similar to Bungalow\n",
    "lax_listings_detailed.replace('Treehouse','Bungalow',inplace=True)\n",
    "lax_listings_detailed.replace('Cabin','Bungalow',inplace=True)\n",
    "lax_listings_detailed.replace('Dome house','Bungalow',inplace=True)\n",
    "lax_listings_detailed.replace('Earth house','Bungalow',inplace=True)\n",
    "lax_listings_detailed.replace('Hut','Bungalow',inplace=True)\n",
    "lax_listings_detailed.replace('Yurt','Bungalow',inplace=True)\n",
    "lax_listings_detailed.replace('Tiny house','Bungalow',inplace=True)\n",
    "\n",
    "\n",
    "# Boutique hotel, resort most like a hotel\n",
    "lax_listings_detailed.replace('Boutique hotel','Hotel',inplace=True)\n",
    "lax_listings_detailed.replace('Resort','Hotel',inplace=True)\n",
    "lax_listings_detailed.replace('Aparthotel','Hotel',inplace=True)\n",
    "\n",
    "# Farm stay to Bed and breakfast\n",
    "lax_listings_detailed.replace('Farm stay','Bed and breakfast',inplace=True)\n",
    "\n",
    "# Castle, Yurt, Tent, Hostel and Chalet to other\n",
    "lax_listings_detailed.replace('Minsu (Taiwan)','Other',inplace=True)\n",
    "lax_listings_detailed.replace('Vacation home','Other',inplace=True)\n",
    "lax_listings_detailed.replace('Cave','Other',inplace=True)\n",
    "lax_listings_detailed.replace('Igloo','Other',inplace=True)\n",
    "lax_listings_detailed.replace('Pension (South Korea)','Other',inplace=True)\n",
    "lax_listings_detailed.replace('Train','Other',inplace=True)\n",
    "lax_listings_detailed.replace('Houseboat','Other',inplace=True)\n",
    "lax_listings_detailed.replace('Bus','Other',inplace=True)\n",
    "lax_listings_detailed.replace('Island','Other',inplace=True)\n",
    "lax_listings_detailed.replace('Casa particular (Cuba)','Other',inplace=True)\n",
    "lax_listings_detailed.replace('Dome','Other',inplace=True)\n",
    "lax_listings_detailed.replace('Tipi','Other',inplace=True)\n",
    "lax_listings_detailed.replace('Barn','Other',inplace=True)\n",
    "lax_listings_detailed.replace('Campsite','Other',inplace=True)\n",
    "lax_listings_detailed.replace('Castle','Other',inplace=True)\n",
    "lax_listings_detailed.replace('Chalet','Other',inplace=True)\n",
    "lax_listings_detailed.replace('Tent','Other',inplace=True)\n",
    "lax_listings_detailed.replace('Farm stay','Other',inplace=True)\n",
    "lax_listings_detailed.replace('Boat','Other',inplace=True)\n",
    "lax_listings_detailed.replace('Dorm','Other',inplace=True)"
   ]
  },
  {
   "cell_type": "code",
   "execution_count": 20,
   "metadata": {},
   "outputs": [
    {
     "data": {
      "text/plain": [
       "Apartment             16654\n",
       "House                 15436\n",
       "Condominium            2645\n",
       "Guesthouse             2349\n",
       "Guest suite            1543\n",
       "Bungalow               1415\n",
       "Townhouse              1364\n",
       "Villa                  1075\n",
       "Loft                    945\n",
       "Serviced apartment      279\n",
       "Other                   278\n",
       "Hostel                  257\n",
       "Hotel                   255\n",
       "Cottage                 197\n",
       "Bed and breakfast       192\n",
       "Camper/RV               169\n",
       "Name: property_type, dtype: int64"
      ]
     },
     "execution_count": 20,
     "metadata": {},
     "output_type": "execute_result"
    }
   ],
   "source": [
    "lax_listings_detailed.property_type.value_counts()"
   ]
  },
  {
   "cell_type": "markdown",
   "metadata": {},
   "source": [
    "**Before doing any text analysis**, create indicator features for potentially important text fields that hosts can fill out optionally"
   ]
  },
  {
   "cell_type": "code",
   "execution_count": 21,
   "metadata": {},
   "outputs": [
    {
     "data": {
      "text/plain": [
       "1    27633\n",
       "0    17420\n",
       "Name: transit_bin, dtype: int64"
      ]
     },
     "execution_count": 21,
     "metadata": {},
     "output_type": "execute_result"
    }
   ],
   "source": [
    "lax_listings_detailed['transit_bin'] = [\n",
    "    0 if x else 1 for x in lax_listings_detailed.transit.isna()\n",
    "]\n",
    "lax_listings_detailed.transit_bin.value_counts()"
   ]
  },
  {
   "cell_type": "code",
   "execution_count": 22,
   "metadata": {},
   "outputs": [
    {
     "data": {
      "text/plain": [
       "1    31392\n",
       "0    13661\n",
       "Name: house_rules_bin, dtype: int64"
      ]
     },
     "execution_count": 22,
     "metadata": {},
     "output_type": "execute_result"
    }
   ],
   "source": [
    "lax_listings_detailed['house_rules_bin'] = [\n",
    "    0 if x else 1 for x in lax_listings_detailed.house_rules.isna()\n",
    "]\n",
    "lax_listings_detailed.house_rules_bin.value_counts()"
   ]
  },
  {
   "cell_type": "markdown",
   "metadata": {},
   "source": [
    "**Categorical Variables** that are ordinal are put into a numerical scale, binary are put into binary variables, and others are one-hot encoded"
   ]
  },
  {
   "cell_type": "code",
   "execution_count": 23,
   "metadata": {},
   "outputs": [],
   "source": [
    "# Host Response Time\n",
    "# We will treat nan values as \n",
    "\n",
    "lax_listings_detailed[\n",
    "    'host_response_time_num'] = lax_listings_detailed.host_response_time.map({\n",
    "        'within an hour':\n",
    "        1,\n",
    "        'within a few hours':\n",
    "        2,\n",
    "        'within a day':\n",
    "        3,\n",
    "        'a few days or more':\n",
    "        4,\n",
    "        np.nan:\n",
    "        5\n",
    "    })"
   ]
  },
  {
   "cell_type": "code",
   "execution_count": 24,
   "metadata": {},
   "outputs": [],
   "source": [
    "# Cancellation Policy\n",
    "\n",
    "lax_listings_detailed[\n",
    "    'cancellation_policy_num'] = lax_listings_detailed.cancellation_policy.map({\n",
    "        'flexible':\n",
    "        1,\n",
    "        'moderate':\n",
    "        2,\n",
    "        'strict':\n",
    "        3,\n",
    "        'strict_14_with_grace_period':\n",
    "        4,\n",
    "        'super_strict_30':\n",
    "        5,\n",
    "        'super_strict_60':\n",
    "        6\n",
    "    })"
   ]
  },
  {
   "cell_type": "code",
   "execution_count": 25,
   "metadata": {},
   "outputs": [],
   "source": [
    "# Superhost\n",
    "\n",
    "lax_listings_detailed['host_is_superhost'] = [\n",
    "    1 if x == 't' else 0 for x in lax_listings_detailed.host_is_superhost\n",
    "]"
   ]
  },
  {
   "cell_type": "code",
   "execution_count": 26,
   "metadata": {},
   "outputs": [],
   "source": [
    "# Instant Bookable\n",
    "lax_listings_detailed['instant_bookable'] = [\n",
    "    1 if x == 't' else 0 for x in lax_listings_detailed.instant_bookable\n",
    "]"
   ]
  },
  {
   "cell_type": "code",
   "execution_count": 27,
   "metadata": {},
   "outputs": [],
   "source": [
    "# Requires Guest Profile Picture\n",
    "lax_listings_detailed['require_guest_profile_picture'] = [\n",
    "    1 if x == 't' else 0 for x in lax_listings_detailed.require_guest_profile_picture\n",
    "]"
   ]
  },
  {
   "cell_type": "code",
   "execution_count": 28,
   "metadata": {},
   "outputs": [],
   "source": [
    "# Requires Guest Phone Verification\n",
    "lax_listings_detailed['require_guest_phone_verification'] = [\n",
    "    1 if x == 't' else 0 for x in lax_listings_detailed.require_guest_phone_verification\n",
    "]"
   ]
  },
  {
   "cell_type": "code",
   "execution_count": 29,
   "metadata": {},
   "outputs": [],
   "source": [
    "# Create a column for number of amenities (figure out specific amenity importances later)\n",
    "lax_listings_detailed['amenities_num'] = [len(x) for x in lax_listings_detailed.amenities.str.split(',')]"
   ]
  },
  {
   "cell_type": "code",
   "execution_count": 30,
   "metadata": {},
   "outputs": [],
   "source": [
    "# Property Type\n",
    "# One hot encode\n",
    "prop_type_dummies = pd.get_dummies(lax_listings_detailed.property_type,\n",
    "                                   prefix='prop')\n",
    "\n",
    "# Drop \"other\" column as base case\n",
    "del prop_type_dummies['prop_Other']\n",
    "\n",
    "# Merge with df\n",
    "lax_listings_detailed = lax_listings_detailed.merge(prop_type_dummies,\n",
    "                                                    left_index=True,\n",
    "                                                    right_index=True)"
   ]
  },
  {
   "cell_type": "code",
   "execution_count": 31,
   "metadata": {},
   "outputs": [
    {
     "data": {
      "text/plain": [
       "Entire home/apt    28468\n",
       "Private room       14410\n",
       "Shared room         1769\n",
       "Hotel room           406\n",
       "Name: room_type, dtype: int64"
      ]
     },
     "execution_count": 31,
     "metadata": {},
     "output_type": "execute_result"
    }
   ],
   "source": [
    "lax_listings_detailed.room_type.value_counts()"
   ]
  },
  {
   "cell_type": "code",
   "execution_count": 32,
   "metadata": {},
   "outputs": [],
   "source": [
    "# Room Type\n",
    "# Create numerical column for room type\n",
    "lax_listings_detailed['room_type_num'] = lax_listings_detailed.room_type.map({\n",
    "    'Entire home/apt':\n",
    "    4,\n",
    "    'Private room':\n",
    "    3,\n",
    "    'Hotel room':\n",
    "    2,\n",
    "    'Shared room':\n",
    "    1\n",
    "})\n",
    "\n",
    "# One hot encode\n",
    "room_type_dummies = pd.get_dummies(lax_listings_detailed.room_type,\n",
    "                                   prefix='room')\n",
    "\n",
    "# Drop \"hotel room\" column as base case\n",
    "del room_type_dummies['room_Hotel room']\n",
    "\n",
    "# Merge with df\n",
    "lax_listings_detailed = lax_listings_detailed.merge(room_type_dummies,\n",
    "                                                    left_index=True,\n",
    "                                                    right_index=True)"
   ]
  },
  {
   "cell_type": "code",
   "execution_count": 33,
   "metadata": {},
   "outputs": [],
   "source": [
    "# Bed Type\n",
    "# One hot encode\n",
    "bed_type_dummies = pd.get_dummies(lax_listings_detailed.bed_type,\n",
    "                                   prefix='bed')\n",
    "\n",
    "# Drop \"Real bed\" column as base case\n",
    "del bed_type_dummies['bed_Real Bed']\n",
    "\n",
    "# # Merge with df\n",
    "lax_listings_detailed = lax_listings_detailed.merge(bed_type_dummies,\n",
    "                                                    left_index=True,\n",
    "                                                    right_index=True)"
   ]
  },
  {
   "cell_type": "code",
   "execution_count": 34,
   "metadata": {},
   "outputs": [
    {
     "data": {
      "text/plain": [
       "Hollywood                       4130\n",
       "Mid-Wilshire                    3739\n",
       "Venice                          2333\n",
       "Other                           2260\n",
       "Long Beach                      1725\n",
       "Downtown                        1688\n",
       "West Hollywood                  1279\n",
       "South LA                        1199\n",
       "Santa Monica                    1168\n",
       "Westlake                         983\n",
       "Echo Park                        953\n",
       "Silver Lake                      733\n",
       "North Hollywood                  716\n",
       "Westwood                         696\n",
       "Mar Vista                        634\n",
       "West Los Angeles                 626\n",
       "Westchester/Playa Del Rey        617\n",
       "Marina Del Rey                   614\n",
       "Pasadena                         607\n",
       "Bel Air/Beverly Crest            595\n",
       "Beverly Hills                    587\n",
       "Glendale                         551\n",
       "South Robertson                  537\n",
       "Hollywood Hills                  498\n",
       "Sherman Oaks                     471\n",
       "Woodland Hills/Warner Center     450\n",
       "Studio City                      427\n",
       "Malibu                           420\n",
       "Del Rey                          406\n",
       "Burbank                          361\n",
       "Name: neighbourhood, dtype: int64"
      ]
     },
     "execution_count": 34,
     "metadata": {},
     "output_type": "execute_result"
    }
   ],
   "source": [
    "# Neighbourhood\n",
    "# Fill nan's with \"Other\"\n",
    "lax_listings_detailed.neighbourhood.fillna('Other',inplace=True)\n",
    "lax_listings_detailed.neighbourhood.value_counts()[0:30]"
   ]
  },
  {
   "cell_type": "code",
   "execution_count": 35,
   "metadata": {},
   "outputs": [],
   "source": [
    "# Put listings with less than 200 listings into an \"Other\" column\n",
    "top_neighbourhoods = lax_listings_detailed.groupby('neighbourhood').size() > 200\n",
    "\n",
    "lax_listings_detailed[\n",
    "    'neighbourhood_compressed'] = lax_listings_detailed.neighbourhood.apply(\n",
    "        lambda x: x if top_neighbourhoods[x] else 'Other')"
   ]
  },
  {
   "cell_type": "code",
   "execution_count": 36,
   "metadata": {},
   "outputs": [],
   "source": [
    "# Neighbourhood\n",
    "# One hot encode\n",
    "n_type_dummies = pd.get_dummies(lax_listings_detailed.neighbourhood_compressed,\n",
    "                                   prefix='neigh')\n",
    "\n",
    "# Drop \"Other\" column as base case\n",
    "del n_type_dummies['neigh_Other']\n",
    "\n",
    "# # Merge with df\n",
    "lax_listings_detailed = lax_listings_detailed.merge(n_type_dummies,\n",
    "                                                    left_index=True,\n",
    "                                                    right_index=True)"
   ]
  },
  {
   "cell_type": "markdown",
   "metadata": {},
   "source": [
    "### Adding Features: Amenities\n",
    "Rather than simply counting the number of features, investigate which features have the greatest influence on price"
   ]
  },
  {
   "cell_type": "code",
   "execution_count": 37,
   "metadata": {},
   "outputs": [],
   "source": [
    "# Format amenities column for analysis\n",
    "lax_listings_detailed.amenities = lax_listings_detailed.amenities.apply(\n",
    "    lambda x: re.sub('[^a-zA-Z,\\/\\s\\d-]*', '', x).split(sep=','))"
   ]
  },
  {
   "cell_type": "code",
   "execution_count": 38,
   "metadata": {},
   "outputs": [
    {
     "data": {
      "text/plain": [
       "0        [TV, Cable TV, Internet, Wifi, Air conditionin...\n",
       "1        [TV, Cable TV, Internet, Wifi, Air conditionin...\n",
       "2        [Internet, Wifi, Air conditioning, Wheelchair ...\n",
       "3        [Internet, Wifi, Kitchen, Heating, Washer, Dry...\n",
       "4        [TV, Cable TV, Internet, Wifi, Air conditionin...\n",
       "                               ...                        \n",
       "45048    [TV, Wifi, Air conditioning, Heating, Smoke de...\n",
       "45049    [TV, Wifi, Air conditioning, Kitchen, Free par...\n",
       "45050    [TV, Wifi, Air conditioning, Kitchen, Free par...\n",
       "45051    [TV, Wifi, Air conditioning, Kitchen, Pets all...\n",
       "45052    [TV, Wifi, Air conditioning, Kitchen, Washer, ...\n",
       "Name: amenities, Length: 45053, dtype: object"
      ]
     },
     "execution_count": 38,
     "metadata": {},
     "output_type": "execute_result"
    }
   ],
   "source": [
    "# Create list with all amenities\n",
    "lax_listings_detailed.amenities"
   ]
  },
  {
   "cell_type": "code",
   "execution_count": 39,
   "metadata": {},
   "outputs": [],
   "source": [
    "# Create flat list of all amenities entries\n",
    "amenities_list = [item for sublist in lax_listings_detailed.amenities for item in sublist]"
   ]
  },
  {
   "cell_type": "code",
   "execution_count": 40,
   "metadata": {},
   "outputs": [],
   "source": [
    "# Add up amenity counts\n",
    "amenity_counts = Counter(amenities_list).most_common()"
   ]
  },
  {
   "cell_type": "code",
   "execution_count": 41,
   "metadata": {},
   "outputs": [
    {
     "data": {
      "text/plain": [
       "[('Wifi', 43963),\n",
       " ('Essentials', 42857),\n",
       " ('Smoke detector', 41690),\n",
       " ('Kitchen', 39936),\n",
       " ('Heating', 39722),\n",
       " ('Hangers', 38413),\n",
       " ('Shampoo', 36330),\n",
       " ('TV', 36261),\n",
       " ('Carbon monoxide detector', 35082),\n",
       " ('Air conditioning', 34592),\n",
       " ('Hair dryer', 34446),\n",
       " ('Washer', 34222),\n",
       " ('Dryer', 33772),\n",
       " ('Laptop friendly workspace', 33703),\n",
       " ('Iron', 32675),\n",
       " ('Hot water', 28184),\n",
       " ('Free parking on premises', 27133),\n",
       " ('Fire extinguisher', 24195),\n",
       " ('Refrigerator', 21047),\n",
       " ('First aid kit', 21044)]"
      ]
     },
     "execution_count": 41,
     "metadata": {},
     "output_type": "execute_result"
    }
   ],
   "source": [
    "# See what these look like, look at the first 20\n",
    "amenity_counts[0:20]"
   ]
  },
  {
   "cell_type": "markdown",
   "metadata": {},
   "source": [
    "There are a lot of amenities that only come up a few times. We are only interested in the more commonly listed amenities. First we will try looking at amenities that appear in more than 2.5% of listings"
   ]
  },
  {
   "cell_type": "code",
   "execution_count": 42,
   "metadata": {},
   "outputs": [],
   "source": [
    "# Make a list of amenities of interest\n",
    "amenities_of_interest = [x[0] for x in amenity_counts[0:70]]"
   ]
  },
  {
   "cell_type": "code",
   "execution_count": 43,
   "metadata": {},
   "outputs": [
    {
     "name": "stdout",
     "output_type": "stream",
     "text": [
      "['Wifi', 'Essentials', 'Smoke detector', 'Kitchen', 'Heating', 'Hangers', 'Shampoo', 'TV', 'Carbon monoxide detector', 'Air conditioning', 'Hair dryer', 'Washer', 'Dryer', 'Laptop friendly workspace', 'Iron', 'Hot water', 'Free parking on premises', 'Fire extinguisher', 'Refrigerator', 'First aid kit', 'Dishes and silverware', 'Lock on bedroom door', 'Microwave', 'Bed linens', 'Free street parking', 'Coffee maker', 'Private entrance', 'Stove', 'Cooking basics', 'Oven', 'Self check-in', 'No stairs or steps to enter', 'Long term stays allowed', 'Extra pillows and blankets', 'Family/kid friendly', 'Cable TV', 'Patio or balcony', 'Dishwasher', 'Internet', 'Pool', 'Luggage dropoff allowed', 'Indoor fireplace', 'Garden or backyard', 'Elevator', 'Pets allowed', 'Hot tub', 'Lockbox', 'Host greets you', 'BBQ grill', 'Private living room', 'Gym', 'Single level home', 'Bathtub', 'Keypad', 'Safety card', 'Well-lit path to entrance', 'Breakfast', '24-hour check-in', 'Pets live on this property', 'Wide entrance for guests', 'Ethernet connection', 'Extra space around bed', 'Smoking allowed', 'Wide hallways', 'Wide entrance', 'Room-darkening shades', 'Flat path to guest entrance']\n"
     ]
    }
   ],
   "source": [
    "# Remove unnecessary ones\n",
    "amenities_of_interest.remove('Other')\n",
    "amenities_of_interest.remove('translation missing enhostingamenity49')\n",
    "amenities_of_interest.remove('translation missing enhostingamenity50')\n",
    "\n",
    "print(amenities_of_interest)"
   ]
  },
  {
   "cell_type": "code",
   "execution_count": 44,
   "metadata": {},
   "outputs": [],
   "source": [
    "amenities_cols = []\n",
    "amenities_col_names = []\n",
    "for amenity in amenities_of_interest:\n",
    "    amenities_cols.append([1 if x==True else 0 for x in lax_listings_detailed.amenities.apply(lambda x: amenity in x)])\n",
    "    amenities_col_names.append(('amen_'+amenity))"
   ]
  },
  {
   "cell_type": "code",
   "execution_count": 45,
   "metadata": {},
   "outputs": [],
   "source": [
    "# Create dummy variable columns\n",
    "amenity_columns = pd.DataFrame(amenities_cols).transpose()\n",
    "amenity_columns.columns=amenities_col_names\n",
    "amenity_columns.index=lax_listings_detailed.index"
   ]
  },
  {
   "cell_type": "code",
   "execution_count": 46,
   "metadata": {},
   "outputs": [],
   "source": [
    "# Split into amenity groups\n",
    "kitchen_amenities = [\n",
    "    'Kitchen', 'Refrigerator', 'Dishes and silverware', 'Microwave',\n",
    "    'Coffee maker', 'Stove', 'Cooking basics', 'Oven', 'Dishwasher',\n",
    "    'BBQ grill', 'Breakfast'\n",
    "]\n",
    "cleaning_amenities = [\n",
    "    'Shampoo', 'Hair dryer', 'Washer', 'Dryer', 'Iron', 'Hot water', 'Bathtub'\n",
    "]\n",
    "safety_amenities = [\n",
    "    'Smoke detector', 'Carbon monoxide detector', 'Fire extinguisher',\n",
    "    'First aid kit', 'Lock on bedroom door', 'Lockbox', 'Keypad',\n",
    "    'Safety card', 'Smart lock'\n",
    "]\n",
    "household_amenities = [\n",
    "    'Heating', 'Air conditioning', 'Laptop friendly workspace',\n",
    "    'Free parking on premises', 'Free street parking', 'Private entrance',\n",
    "    'Self check-in', 'No stairs or steps to enter', 'Long term stays allowed',\n",
    "    'Family/kid friendly', 'Luggage dropoff allowed', 'Indoor fireplace',\n",
    "    'Elevator', 'Pets allowed', 'Host greets you', 'Single level home',\n",
    "    'Well-lit path to entrance', '24-hour check-in',\n",
    "    'Pets live on this property', 'Wide entrance for guests',\n",
    "    'Extra space around bed', 'Smoking allowed', 'Wide hallways',\n",
    "    'Wide entrance', 'Room-darkening shades', 'Flat path to guest entrance',\n",
    "    'Wide entryway'\n",
    "]\n",
    "bedroom_amenities = ['Hangers', 'Bed linens', 'Extra pillows and blankets']\n",
    "electronics_amenities = [\n",
    "    'Wifi', 'TV', 'Cable TV', 'Internet', 'Ethernet connection'\n",
    "]\n",
    "extra_spaces_amenities = [\n",
    "    'Patio or balcony', 'Pool', 'Garden or backyard', 'Hot tub', 'BBQ grill',\n",
    "    'Private living room', 'Gym'\n",
    "]\n",
    "\n",
    "amenity_groups = [\n",
    "    kitchen_amenities, cleaning_amenities, safety_amenities,\n",
    "    household_amenities, bedroom_amenities, electronics_amenities,\n",
    "    extra_spaces_amenities\n",
    "]"
   ]
  },
  {
   "cell_type": "code",
   "execution_count": 49,
   "metadata": {},
   "outputs": [],
   "source": [
    "# Get counts for # of amenities within each category for each listing\n",
    "amenity_group_cols = []\n",
    "for group in amenity_groups:\n",
    "    amenity_group_cols.append(lax_listings_detailed.amenities.apply(\n",
    "    lambda x: len(set(group).intersection(set(x)))))"
   ]
  },
  {
   "cell_type": "code",
   "execution_count": 50,
   "metadata": {},
   "outputs": [],
   "source": [
    "amenity_group_columns = pd.DataFrame(amenity_group_cols).transpose()\n",
    "amenity_group_columns.index = lax_listings_detailed.index\n",
    "amenity_group_columns.columns = [\n",
    "    'amen_group_kitchen', 'amen_group_cleaning', 'amen_group_safety',\n",
    "    'amen_group_household', 'amen_group_bedroom', 'amen_group_electronics',\n",
    "    'amen_group_extra_spaces'\n",
    "]"
   ]
  },
  {
   "cell_type": "code",
   "execution_count": 51,
   "metadata": {},
   "outputs": [],
   "source": [
    "# Merge into main df\n",
    "lax_listings_detailed = lax_listings_detailed.merge(amenity_group_columns,how='left',left_index=True,right_index=True)"
   ]
  },
  {
   "cell_type": "markdown",
   "metadata": {},
   "source": [
    "**Time-based** features that can be represented as a timedelta (number of days since)"
   ]
  },
  {
   "cell_type": "code",
   "execution_count": 53,
   "metadata": {},
   "outputs": [],
   "source": [
    "lax_listings_detailed['host_since_num'] = [\n",
    "    (dt.datetime.today() - x).days for x in lax_listings_detailed.host_since\n",
    "]"
   ]
  },
  {
   "cell_type": "markdown",
   "metadata": {},
   "source": [
    "### Missing Data"
   ]
  },
  {
   "cell_type": "markdown",
   "metadata": {},
   "source": [
    "**Missing values**: some columns only have a couple of null values - we will disregard these"
   ]
  },
  {
   "cell_type": "code",
   "execution_count": 54,
   "metadata": {},
   "outputs": [],
   "source": [
    "lax_listings_detailed.dropna(subset=['bedrooms','beds','host_since_num'],inplace=True)"
   ]
  },
  {
   "cell_type": "code",
   "execution_count": 55,
   "metadata": {},
   "outputs": [],
   "source": [
    "# Host Response Rate\n",
    "# Fill with zero, assume they don't respond to guests very well\n",
    "lax_listings_detailed.host_response_rate.fillna(0,inplace=True)"
   ]
  },
  {
   "cell_type": "code",
   "execution_count": 56,
   "metadata": {},
   "outputs": [],
   "source": [
    "# Security Deposit\n",
    "# Assume zero security deposit\n",
    "lax_listings_detailed.security_deposit.fillna(0,inplace=True)"
   ]
  },
  {
   "cell_type": "code",
   "execution_count": 57,
   "metadata": {},
   "outputs": [],
   "source": [
    "# Cleaning fee\n",
    "# Assume zero cleaning fee\n",
    "lax_listings_detailed.cleaning_fee.fillna(0,inplace=True)"
   ]
  },
  {
   "cell_type": "code",
   "execution_count": 58,
   "metadata": {},
   "outputs": [
    {
     "name": "stderr",
     "output_type": "stream",
     "text": [
      "/anaconda3/envs/metis/lib/python3.6/site-packages/numpy/lib/histograms.py:829: RuntimeWarning: invalid value encountered in greater_equal\n",
      "  keep = (tmp_a >= first_edge)\n",
      "/anaconda3/envs/metis/lib/python3.6/site-packages/numpy/lib/histograms.py:830: RuntimeWarning: invalid value encountered in less_equal\n",
      "  keep &= (tmp_a <= last_edge)\n"
     ]
    },
    {
     "data": {
      "image/png": "[encoded data removed]",
      "text/plain": [
       "<Figure size 432x288 with 7 Axes>"
      ]
     },
     "metadata": {
      "needs_background": "light"
     },
     "output_type": "display_data"
    }
   ],
   "source": [
    "# Look at ratings distributions\n",
    "fig,(ax1,ax2,ax3,ax4,ax5,ax6,ax7) = plt.subplots(7,1)\n",
    "\n",
    "ax1.hist(lax_listings_detailed.review_scores_rating,color=bnb_blue)\n",
    "ax1.set_title('Rating')\n",
    "ax2.hist(lax_listings_detailed.review_scores_accuracy,color=bnb_blue)\n",
    "ax2.set_title('Accuracy')\n",
    "ax3.hist(lax_listings_detailed.review_scores_cleanliness,color=bnb_blue)\n",
    "ax3.set_title('Cleanliness')\n",
    "ax4.hist(lax_listings_detailed.review_scores_checkin,color=bnb_blue)\n",
    "ax4.set_title('Check In')\n",
    "ax5.hist(lax_listings_detailed.review_scores_communication,color=bnb_blue)\n",
    "ax5.set_title('Communication')\n",
    "ax6.hist(lax_listings_detailed.review_scores_location,color=bnb_blue)\n",
    "ax6.set_title('Location')\n",
    "ax7.hist(lax_listings_detailed.review_scores_value,color=bnb_blue)\n",
    "ax7.set_title('Value');"
   ]
  },
  {
   "cell_type": "code",
   "execution_count": 59,
   "metadata": {},
   "outputs": [],
   "source": [
    "# Review Scores are all skewed left. Use median to fill null values\n",
    "\n",
    "lax_listings_detailed.review_scores_rating.fillna(\n",
    "    lax_listings_detailed.review_scores_rating.median(),inplace=True)\n",
    "\n",
    "lax_listings_detailed.review_scores_accuracy.fillna(\n",
    "    lax_listings_detailed.review_scores_accuracy.median(),inplace=True)\n",
    "\n",
    "lax_listings_detailed.review_scores_cleanliness.fillna(\n",
    "    lax_listings_detailed.review_scores_cleanliness.median(),inplace=True)\n",
    "\n",
    "lax_listings_detailed.review_scores_checkin.fillna(\n",
    "    lax_listings_detailed.review_scores_checkin.median(),inplace=True)\n",
    "\n",
    "lax_listings_detailed.review_scores_communication.fillna(\n",
    "    lax_listings_detailed.review_scores_communication.median(),inplace=True)\n",
    "\n",
    "lax_listings_detailed.review_scores_location.fillna(\n",
    "    lax_listings_detailed.review_scores_location.median(),inplace=True)\n",
    "\n",
    "lax_listings_detailed.review_scores_value.fillna(\n",
    "    lax_listings_detailed.review_scores_value.median(),inplace=True)"
   ]
  },
  {
   "cell_type": "markdown",
   "metadata": {},
   "source": [
    "### Outliers\n",
    "We will look at columns that we expect to be most influential on the model. Since our goal is to best serve the \"typical\" host, we may choose to exclude extreme cases from the model. This is also to check for incorrect data entries (i.e. a house listed with 1 bedroom but 10 bathrooms was probably a typo)"
   ]
  },
  {
   "cell_type": "code",
   "execution_count": 60,
   "metadata": {},
   "outputs": [],
   "source": [
    "def findOutliers(df, column, lim_scalar=4):\n",
    "    \"\"\"\n",
    "    Returns outliers above the max limit for a column in a dataframe\n",
    "    Adjust outlier cutoff to q75 + 4*iqr to include more data\n",
    "    ---\n",
    "    input: DataFrame, column(series),lim_scalar(float)\n",
    "    output: DataFrame\n",
    "    \"\"\"\n",
    "    q25, q50, q75 = df[column].quantile(q=[0.25, 0.5, 0.75])\n",
    "    iqr = q75 - q25\n",
    "    # max limits to be considered an outlier\n",
    "    max_ = q75 + lim_scalar * iqr\n",
    "    # identify the points\n",
    "    outlier_mask = [True if x > max_ else False for x in df[column]]\n",
    "    print('{} outliers found out of {} data points, {}% of the data. {} is the max'.format(\n",
    "        sum(outlier_mask), len(df[column]),\n",
    "        100 * (sum(outlier_mask) / len(df[column])),max_))\n",
    "    return outlier_mask"
   ]
  },
  {
   "cell_type": "code",
   "execution_count": 61,
   "metadata": {},
   "outputs": [],
   "source": [
    "# Bathrooms\n",
    "# Fill na with 1\n",
    "lax_listings_detailed.bathrooms.fillna(1,inplace=True)"
   ]
  },
  {
   "cell_type": "code",
   "execution_count": 62,
   "metadata": {},
   "outputs": [
    {
     "data": {
      "image/png": "[encoded data removed]",
      "text/plain": [
       "<Figure size 216x216 with 1 Axes>"
      ]
     },
     "metadata": {
      "needs_background": "light"
     },
     "output_type": "display_data"
    }
   ],
   "source": [
    "# Look at the distribution of the bathrooms column\n",
    "plt.figure(figsize=(3,3))\n",
    "plt.boxplot(lax_listings_detailed.bathrooms)\n",
    "sns.despine()\n",
    "plt.title('bathrooms distribution');"
   ]
  },
  {
   "cell_type": "markdown",
   "metadata": {},
   "source": [
    "The distribution of bathrooms is skewed to the right. There is an obvious outlier at 16 bathrooms. Upon further investigation this may be a typo as this residence only has 1 bedroom. We will look at other important numerical columns for outliers as well"
   ]
  },
  {
   "cell_type": "code",
   "execution_count": 63,
   "metadata": {},
   "outputs": [
    {
     "name": "stdout",
     "output_type": "stream",
     "text": [
      "289 outliers found out of 44925 data points, 0.6432943795214247% of the data. 6.0 is the max\n"
     ]
    }
   ],
   "source": [
    "# Remove bathroom outliers\n",
    "lax_listings_detailed_cleaned = lax_listings_detailed[np.logical_not(\n",
    "    findOutliers(lax_listings_detailed, 'bathrooms'))]"
   ]
  },
  {
   "cell_type": "code",
   "execution_count": 64,
   "metadata": {},
   "outputs": [
    {
     "data": {
      "image/png": "[encoded data removed]",
      "text/plain": [
       "<Figure size 216x216 with 1 Axes>"
      ]
     },
     "metadata": {
      "needs_background": "light"
     },
     "output_type": "display_data"
    }
   ],
   "source": [
    "# Look at the distribution of the beds column\n",
    "plt.figure(figsize=(3,3))\n",
    "plt.boxplot(lax_listings_detailed.beds)\n",
    "sns.despine()\n",
    "plt.title('beds distribution');"
   ]
  },
  {
   "cell_type": "code",
   "execution_count": 65,
   "metadata": {},
   "outputs": [
    {
     "name": "stdout",
     "output_type": "stream",
     "text": [
      "315 outliers found out of 44636 data points, 0.7057083968097501% of the data. 8.0 is the max\n"
     ]
    }
   ],
   "source": [
    "# Remove bedroom outliers\n",
    "lax_listings_detailed_cleaned = lax_listings_detailed_cleaned[np.logical_not(\n",
    "    findOutliers(lax_listings_detailed_cleaned, 'beds',lim_scalar=6))]"
   ]
  },
  {
   "cell_type": "code",
   "execution_count": 66,
   "metadata": {},
   "outputs": [
    {
     "data": {
      "image/png": "[encoded data removed]",
      "text/plain": [
       "<Figure size 216x216 with 1 Axes>"
      ]
     },
     "metadata": {
      "needs_background": "light"
     },
     "output_type": "display_data"
    }
   ],
   "source": [
    "# Look at the distribution of the security deposit column\n",
    "plt.figure(figsize=(3,3))\n",
    "plt.boxplot(lax_listings_detailed_cleaned.security_deposit)\n",
    "sns.despine()\n",
    "plt.title('security deposit distribution');"
   ]
  },
  {
   "cell_type": "code",
   "execution_count": 67,
   "metadata": {},
   "outputs": [
    {
     "name": "stdout",
     "output_type": "stream",
     "text": [
      "1034 outliers found out of 44321 data points, 2.332979851537646% of the data. 2100.0 is the max\n"
     ]
    }
   ],
   "source": [
    "# Remove security deposit outliers\n",
    "lax_listings_detailed_cleaned = lax_listings_detailed_cleaned[np.logical_not(\n",
    "    findOutliers(lax_listings_detailed_cleaned, 'security_deposit',lim_scalar=6))]"
   ]
  },
  {
   "cell_type": "code",
   "execution_count": 68,
   "metadata": {},
   "outputs": [
    {
     "data": {
      "image/png": "[encoded data removed]",
      "text/plain": [
       "<Figure size 216x216 with 1 Axes>"
      ]
     },
     "metadata": {
      "needs_background": "light"
     },
     "output_type": "display_data"
    }
   ],
   "source": [
    "# Look at the distribution of the cleaning fee column\n",
    "plt.figure(figsize=(3,3))\n",
    "plt.boxplot(lax_listings_detailed_cleaned.cleaning_fee)\n",
    "sns.despine()\n",
    "plt.title('cleaning fee distribution');"
   ]
  },
  {
   "cell_type": "code",
   "execution_count": 69,
   "metadata": {},
   "outputs": [
    {
     "name": "stdout",
     "output_type": "stream",
     "text": [
      "78 outliers found out of 43287 data points, 0.1801926675445284% of the data. 510.0 is the max\n"
     ]
    }
   ],
   "source": [
    "# Remove security deposit outliers\n",
    "lax_listings_detailed_cleaned = lax_listings_detailed_cleaned[np.logical_not(\n",
    "    findOutliers(lax_listings_detailed_cleaned, 'cleaning_fee',lim_scalar=5))]"
   ]
  },
  {
   "cell_type": "code",
   "execution_count": 70,
   "metadata": {},
   "outputs": [
    {
     "data": {
      "image/png": "[encoded data removed]",
      "text/plain": [
       "<Figure size 216x216 with 1 Axes>"
      ]
     },
     "metadata": {
      "needs_background": "light"
     },
     "output_type": "display_data"
    }
   ],
   "source": [
    "# Look at the distribution of the minimum nights column\n",
    "plt.figure(figsize=(3,3))\n",
    "plt.boxplot(lax_listings_detailed_cleaned.minimum_nights)\n",
    "sns.despine()\n",
    "plt.title('minimum nights distribution');"
   ]
  },
  {
   "cell_type": "code",
   "execution_count": 71,
   "metadata": {},
   "outputs": [
    {
     "name": "stdout",
     "output_type": "stream",
     "text": [
      "447 outliers found out of 43209 data points, 1.034506699993057% of the data. 31.0 is the max\n"
     ]
    }
   ],
   "source": [
    "# Remove minimum nights outliers\n",
    "lax_listings_detailed_cleaned = lax_listings_detailed_cleaned[np.logical_not(\n",
    "    findOutliers(lax_listings_detailed_cleaned, 'minimum_nights',lim_scalar=14))]"
   ]
  },
  {
   "cell_type": "markdown",
   "metadata": {},
   "source": [
    "We want to keep listings that have a minimum of 1 month"
   ]
  },
  {
   "cell_type": "markdown",
   "metadata": {},
   "source": [
    "\n",
    "## Calculate Occupancy Rate"
   ]
  },
  {
   "cell_type": "markdown",
   "metadata": {},
   "source": [
    "**Occupancy Rate** will be an important consideration in determining which listings are priced well to train the model. What should be considered a \"good\" occupancy rate will most likely vary from place to place. This might be a function of neighborhood, city, unit size, or some other feature though. Let's calculate occupancy rate and see how these vary with some of these features\n",
    "\n",
    "To calculate occupancy rate, we will assume a 50% review rate based on some considerations taken by [Inside Airbnb](http://insideairbnb.com/about.html). We will use this to estimate booked nights per year from the `reviews_per_month` column. Finally, to calculate occupancy rate we will divide this number by the total number of available nights in the year.\n",
    "For now we will disregard those with rates higher than 1, as these are units with no present availability (roughly a quarter of the data falls into this group)\n",
    "\n",
    "(Alternate method: use the number of reviews in the last 12 months to calculate)\n",
    "\n",
    "(Alternate method: First we will calculate the estimated number of bookings for a listing as 2x the number of reviews. From this, we will calculate the estimated number of booked nights per year using an approach similar to the one described by Inside Airbnb. Finally, to calculate occupancy rate we will divide this number by the total number of available nights in the year)"
   ]
  },
  {
   "cell_type": "code",
   "execution_count": null,
   "metadata": {},
   "outputs": [],
   "source": [
    "# Calculate estimated number of bookings\n",
    "lax_listings_detailed_cleaned[\n",
    "    'est_bookings'] = lax_listings_detailed_cleaned.number_of_reviews * 2\n",
    "\n",
    "# Replace entries where unit is brand new with est_bookings = 1\n",
    "lax_listings_detailed_cleaned['est_bookings'] = [\n",
    "    1 if lax_listings_detailed_cleaned.first_review[idx] ==\n",
    "    lax_listings_detailed_cleaned.last_review[idx] else x\n",
    "    for idx, x in enumerate(lax_listings_detailed_cleaned.est_bookings)\n",
    "]"
   ]
  },
  {
   "cell_type": "code",
   "execution_count": 881,
   "metadata": {},
   "outputs": [],
   "source": [
    "# Calculate estimated number of nights booked per year\n",
    "# Use 3 days as the average length of a stay\n",
    "# Unless the minimum number of days is greater than 3, then use that number\n",
    "\n",
    "lax_listings_detailed_cleaned['est_booked_nights_per_year'] = [\n",
    "    3 if x < 3 else x\n",
    "    for x in lax_listings_detailed_cleaned.minimum_nights  # avg stay length\n",
    "] * lax_listings_detailed_cleaned.reviews_per_month * 2 * 12"
   ]
  },
  {
   "cell_type": "code",
   "execution_count": 882,
   "metadata": {},
   "outputs": [],
   "source": [
    "# Calculate estimated number of nights booked\n",
    "# Use 3 days as the average length of a stay\n",
    "# Unless the minimum number of days is greater than 3, then use that number\n",
    "\n",
    "lax_listings_detailed_cleaned['est_booked_nights'] = (\n",
    "    [\n",
    "        3 if x < 3 else x\n",
    "        for x in lax_listings_detailed_cleaned.minimum_minimum_nights\n",
    "    ] *  # avg stay length\n",
    "    lax_listings_detailed_cleaned['est_bookings'])"
   ]
  },
  {
   "cell_type": "code",
   "execution_count": 883,
   "metadata": {},
   "outputs": [],
   "source": [
    "# Occupancy Rate = total_booked_nights / total_available_nights\n",
    "lax_listings_detailed_cleaned[\n",
    "    'occupancy_rate'] = lax_listings_detailed_cleaned['est_booked_nights'] / (\n",
    "        (lax_listings_detailed_cleaned.last_review -\n",
    "         lax_listings_detailed_cleaned.first_review).dt.days + 1)"
   ]
  },
  {
   "cell_type": "code",
   "execution_count": 884,
   "metadata": {},
   "outputs": [],
   "source": [
    "# Occupancy rate = booked_nights_per_year / yearly_availability\n",
    "lax_listings_detailed_cleaned[\n",
    "    'occupancy_rate2'] = lax_listings_detailed_cleaned[\n",
    "        'est_booked_nights_per_year'] / (\n",
    "            lax_listings_detailed_cleaned['availability_365'] + 1\n",
    "        )  # add 1 to avoid div by zero"
   ]
  },
  {
   "cell_type": "code",
   "execution_count": 885,
   "metadata": {},
   "outputs": [
    {
     "data": {
      "image/png": "[encoded data removed]",
      "text/plain": [
       "<Figure size 432x288 with 1 Axes>"
      ]
     },
     "metadata": {
      "needs_background": "light"
     },
     "output_type": "display_data"
    }
   ],
   "source": [
    "# Plot it\n",
    "\n",
    "occ_rate = lax_listings_detailed_cleaned['occupancy_rate']\n",
    "occ_rate2 = lax_listings_detailed_cleaned['occupancy_rate2']\n",
    "\n",
    "# Plot histograms of occupancy rate distribution\n",
    "plt.hist(occ_rate[occ_rate < 1], color=bnb_red, alpha=0.5)\n",
    "sns.despine()\n",
    "plt.title('Distribution of Occupancy Rate: All Data')\n",
    "plt.hist(occ_rate2[occ_rate2 < 1], color=bnb_blue, alpha=0.5)"
   ]
  },
  {
   "cell_type": "markdown",
   "metadata": {},
   "source": [
    "The shape of both approaches for calculating occupancy rate is roughly the same, both being skewed right. The 2nd approach has many more listings falling outside of the range 0 to 1"
   ]
  },
  {
   "cell_type": "code",
   "execution_count": null,
   "metadata": {},
   "outputs": [],
   "source": []
  },
  {
   "cell_type": "markdown",
   "metadata": {},
   "source": [
    "**Save**"
   ]
  },
  {
   "cell_type": "code",
   "execution_count": 935,
   "metadata": {},
   "outputs": [],
   "source": [
    "# Save for later\n",
    "with open('data/lax_listings_detailed_cleaned.pickle', 'wb') as to_write:\n",
    "    pickle.dump(lax_listings_detailed_cleaned, to_write)"
   ]
  },
  {
   "cell_type": "code",
   "execution_count": 75,
   "metadata": {},
   "outputs": [],
   "source": [
    "# # If starting from here, uncomment code\n",
    "# # Load cleaned dataset\n",
    "# with open('data/lax_listings_detailed_cleaned.pickle', 'rb') as to_read:\n",
    "#     lax_listings_detailed_cleaned = pickle.load(to_read)"
   ]
  },
  {
   "cell_type": "markdown",
   "metadata": {},
   "source": [
    "Next step is modeling with linear regression. See next notebook"
   ]
  }
 ],
 "metadata": {
  "kernelspec": {
   "display_name": "Python 3",
   "language": "python",
   "name": "python3"
  },
  "language_info": {
   "codemirror_mode": {
    "name": "ipython",
    "version": 3
   },
   "file_extension": ".py",
   "mimetype": "text/x-python",
   "name": "python",
   "nbconvert_exporter": "python",
   "pygments_lexer": "ipython3",
   "version": "3.6.9"
  },
  "toc": {
   "base_numbering": 1,
   "nav_menu": {},
   "number_sections": true,
   "sideBar": true,
   "skip_h1_title": true,
   "title_cell": "Table of Contents",
   "title_sidebar": "Contents",
   "toc_cell": true,
   "toc_position": {
    "height": "calc(100% - 180px)",
    "left": "10px",
    "top": "150px",
    "width": "249.08px"
   },
   "toc_section_display": true,
   "toc_window_display": true
  }
 },
 "nbformat": 4,
 "nbformat_minor": 2
}
